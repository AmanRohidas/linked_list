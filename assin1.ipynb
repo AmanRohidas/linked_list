{
 "cells": [
  {
   "cell_type": "code",
   "execution_count": 9,
   "metadata": {},
   "outputs": [
    {
     "name": "stdout",
     "output_type": "stream",
     "text": [
      "Loop found\n"
     ]
    }
   ],
   "source": [
    "# Que.1) Detect loop in linked list. Implement a Linked List in python. To simulate loop in linked list do something like this -\n",
    "\n",
    "class Node:\n",
    "    \n",
    "    def __init__(self, data):\n",
    "        self.data = data\n",
    "        self.next = None\n",
    "class LinkedList:\n",
    "    \n",
    "    def __init__(self):\n",
    "        self.head = None\n",
    " \n",
    "    \n",
    "    def push(self, new_data):\n",
    "        new_node = Node(new_data)\n",
    "        new_node.next = self.head\n",
    "        self.head = new_node\n",
    " \n",
    "   \n",
    "    def printList(self):\n",
    "        temp = self.head\n",
    "        while(temp):\n",
    "            print(temp.data, end=\" \")\n",
    "            temp = temp.next\n",
    " \n",
    "    def detectLoop(self):\n",
    "        s = set()\n",
    "        temp = self.head\n",
    "        while (temp):\n",
    "            if (temp in s):\n",
    "                return True\n",
    "            s.add(temp)\n",
    " \n",
    "            temp = temp.next\n",
    " \n",
    "        return False\n",
    " \n",
    "llist = LinkedList()\n",
    "llist.push(20)\n",
    "llist.push(4)\n",
    "llist.push(15)\n",
    "llist.push(10)\n",
    "llist.push(22)\n",
    " \n",
    "llist.head.next.next.next.next = llist.head\n",
    " \n",
    "if(llist.detectLoop()):\n",
    "    print(\"Loop found\")\n",
    "else:\n",
    "    print(\"No Loop \")"
   ]
  },
  {
   "cell_type": "code",
   "execution_count": 1,
   "metadata": {},
   "outputs": [],
   "source": [
    "\n",
    "class ListNode:\n",
    "    def __init__(self,val=0,next= None):\n",
    "        self.val = val\n",
    "        self.next = None\n",
    "class Solution:\n",
    "    def rotateRight(self,head: ListNode,k:0):\n",
    "        \n",
    "        \n",
    "        if not head or k == 0:\n",
    "            return head\n",
    "        \n",
    "        curr = head\n",
    "        count = 0\n",
    "        while curr:\n",
    "            count += 1\n",
    "            curr = curr.next\n",
    "            \n",
    "        def rotate(head):\n",
    "            curr = head\n",
    "            temp = curr.val\n",
    "            while curr:\n",
    "                curr = curr.next\n",
    "                if curr:\n",
    "                    temp2 = curr.val\n",
    "                    curr.val = temp\n",
    "                    temp = temp2\n",
    "                else:\n",
    "                    head.val = temp\n",
    "                \n",
    "        for i in (k % count):\n",
    "            rotate(head)    \n",
    "        return head\n",
    "   "
   ]
  }
 ],
 "metadata": {
  "kernelspec": {
   "display_name": "Python 3",
   "language": "python",
   "name": "python3"
  },
  "language_info": {
   "codemirror_mode": {
    "name": "ipython",
    "version": 3
   },
   "file_extension": ".py",
   "mimetype": "text/x-python",
   "name": "python",
   "nbconvert_exporter": "python",
   "pygments_lexer": "ipython3",
   "version": "3.9.1"
  }
 },
 "nbformat": 4,
 "nbformat_minor": 4
}
